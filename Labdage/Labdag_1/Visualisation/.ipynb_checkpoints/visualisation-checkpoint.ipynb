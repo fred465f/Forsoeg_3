{
 "cells": [
  {
   "cell_type": "code",
   "execution_count": 1,
   "metadata": {},
   "outputs": [],
   "source": [
    "# Standard Libraries\n",
    "import matplotlib.pyplot as plt\n",
    "import numpy as np\n",
    "import pandas as pd\n",
    "import seaborn as sns\n",
    "from scipy.optimize import curve_fit\n",
    "from IPython.display import display, Latex"
   ]
  },
  {
   "cell_type": "code",
   "execution_count": 2,
   "metadata": {},
   "outputs": [],
   "source": [
    "# Plot settings\n",
    "plt.rc(\"axes\", labelsize=18)\n",
    "plt.rc(\"xtick\", labelsize=16, top=True, direction=\"in\")\n",
    "plt.rc(\"ytick\", labelsize=16, right=True, direction=\"in\")\n",
    "plt.rc(\"axes\", titlesize=18)\n",
    "plt.rc(\"legend\", fontsize=16)\n",
    "plt.rc(\"figure\", figsize=(7, 5), titlesize=18)"
   ]
  },
  {
   "cell_type": "code",
   "execution_count": 3,
   "metadata": {},
   "outputs": [],
   "source": [
    "# Functions\n",
    "def delta_n(m, lamb, d):\n",
    "    return (m * lamb) / (2 * d)\n",
    "\n",
    "def delta_n_error(m, lamb, d, d_error):\n",
    "    return np.sqrt(((m * lamb) / (2 * d**2))**2 * d_error**2)\n",
    "\n",
    "def n_luft(k):\n",
    "    return 1 + k\n",
    "\n",
    "def make_ax(data, x, y, xlabel = 'x', ylabel = 'y', title = 'Title', figsize = (10, 10), label = None):\n",
    "    # Make fig and ax\n",
    "    fig, ax = plt.subplots(1, 1, figsize=figsize)\n",
    "    \n",
    "    # Plot data\n",
    "    ax.errorbar(data[x], data[y], yerr = data['delta_n_error'], fmt = \"o\", \n",
    "                label = label, color = 'red', barsabove = True, capsize = 5)\n",
    "\n",
    "    # Set title and axis labels\n",
    "    ax.set_title(title)\n",
    "    ax.set_xlabel(xlabel)\n",
    "    ax.set_ylabel(ylabel)\n",
    "    \n",
    "    # Return fig and ax\n",
    "    return fig, ax\n",
    "\n",
    "def plot_ax(ax, legend = False, grid = False, save = False, filename = 'default.pdf'):\n",
    "    if grid:\n",
    "        ax.grid()\n",
    "    if legend:\n",
    "        ax.legend()\n",
    "    if save:\n",
    "        plt.savefig(filename)\n",
    "    plt.show()\n",
    "    \n",
    "def calculate_fit_for_k(data):\n",
    "    _delta_n = lambda x, k: k * x # Alternative version of delta_n function above\n",
    "    \n",
    "    # Calculate k\n",
    "    popt, pcov = curve_fit(_delta_n, data['pressure'], data['delta_n'], p0 = 0.00025, \n",
    "                           sigma = data['delta_n_error'], absolute_sigma = True)\n",
    "    \n",
    "    # Return k and covariance matrix\n",
    "    return popt, pcov\n",
    "\n",
    "def plot_fit_for_k(data, k, ax):\n",
    "    _delta_n = lambda delta_p, k: k * delta_p # Alternative version of delta_n function above\n",
    "    \n",
    "    # Calculate delta_n from fitted parameter k\n",
    "    delta_n_fit = [_delta_n(d_p, k) for d_p in data['pressure']]\n",
    "    \n",
    "    # Plot fit\n",
    "    ax.plot(data['pressure'], delta_n_fit, color = 'black', linestyle = 'dashed', label = 'Linear fit')\n",
    "    \n",
    "    # Return ax\n",
    "    return ax"
   ]
  },
  {
   "cell_type": "code",
   "execution_count": 4,
   "metadata": {},
   "outputs": [],
   "source": [
    "# Load number of peaks found in cleaning directory\n",
    "df = pd.read_csv('../Cleaned_Data/number_of_peaks.csv')"
   ]
  },
  {
   "cell_type": "code",
   "execution_count": 5,
   "metadata": {},
   "outputs": [
    {
     "data": {
      "text/html": [
       "<div>\n",
       "<style scoped>\n",
       "    .dataframe tbody tr th:only-of-type {\n",
       "        vertical-align: middle;\n",
       "    }\n",
       "\n",
       "    .dataframe tbody tr th {\n",
       "        vertical-align: top;\n",
       "    }\n",
       "\n",
       "    .dataframe thead th {\n",
       "        text-align: right;\n",
       "    }\n",
       "</style>\n",
       "<table border=\"1\" class=\"dataframe\">\n",
       "  <thead>\n",
       "    <tr style=\"text-align: right;\">\n",
       "      <th></th>\n",
       "      <th>pressure</th>\n",
       "      <th>maximums</th>\n",
       "      <th>minimums</th>\n",
       "      <th>total</th>\n",
       "      <th>easy_to_read</th>\n",
       "    </tr>\n",
       "  </thead>\n",
       "  <tbody>\n",
       "    <tr>\n",
       "      <th>0</th>\n",
       "      <td>0.5</td>\n",
       "      <td>8</td>\n",
       "      <td>8</td>\n",
       "      <td>16</td>\n",
       "      <td>0</td>\n",
       "    </tr>\n",
       "    <tr>\n",
       "      <th>1</th>\n",
       "      <td>0.6</td>\n",
       "      <td>9</td>\n",
       "      <td>9</td>\n",
       "      <td>18</td>\n",
       "      <td>1</td>\n",
       "    </tr>\n",
       "    <tr>\n",
       "      <th>2</th>\n",
       "      <td>0.7</td>\n",
       "      <td>11</td>\n",
       "      <td>11</td>\n",
       "      <td>22</td>\n",
       "      <td>1</td>\n",
       "    </tr>\n",
       "    <tr>\n",
       "      <th>3</th>\n",
       "      <td>0.8</td>\n",
       "      <td>13</td>\n",
       "      <td>13</td>\n",
       "      <td>26</td>\n",
       "      <td>1</td>\n",
       "    </tr>\n",
       "    <tr>\n",
       "      <th>4</th>\n",
       "      <td>0.9</td>\n",
       "      <td>14</td>\n",
       "      <td>14</td>\n",
       "      <td>28</td>\n",
       "      <td>1</td>\n",
       "    </tr>\n",
       "    <tr>\n",
       "      <th>5</th>\n",
       "      <td>1.0</td>\n",
       "      <td>15</td>\n",
       "      <td>15</td>\n",
       "      <td>30</td>\n",
       "      <td>1</td>\n",
       "    </tr>\n",
       "  </tbody>\n",
       "</table>\n",
       "</div>"
      ],
      "text/plain": [
       "   pressure  maximums  minimums  total  easy_to_read\n",
       "0       0.5         8         8     16             0\n",
       "1       0.6         9         9     18             1\n",
       "2       0.7        11        11     22             1\n",
       "3       0.8        13        13     26             1\n",
       "4       0.9        14        14     28             1\n",
       "5       1.0        15        15     30             1"
      ]
     },
     "execution_count": 5,
     "metadata": {},
     "output_type": "execute_result"
    }
   ],
   "source": [
    "# Visualize dataframe\n",
    "df.head(6)"
   ]
  },
  {
   "cell_type": "code",
   "execution_count": 6,
   "metadata": {},
   "outputs": [],
   "source": [
    "# Variables\n",
    "lamb = 633 * 10**(-9) #m\n",
    "d = 6.7 * 10**(-2) #m plus minus 0.001m\n",
    "d_error = 0.005 #m"
   ]
  },
  {
   "cell_type": "code",
   "execution_count": 7,
   "metadata": {},
   "outputs": [],
   "source": [
    "# Calculate a value delta_n for every m (total) - and its corresponding error\n",
    "df['delta_n'] = [delta_n(m, lamb, d) for m in df['total']]\n",
    "df['delta_n_error'] = [delta_n_error(m, lamb, d, d_error) for m in df['total']]\n",
    "\n",
    "# Error in pressure measured on pump is assumed to be 0.05 atm\n",
    "df['pressure_error'] = [0.05 for m in df['total']]"
   ]
  },
  {
   "cell_type": "code",
   "execution_count": 8,
   "metadata": {},
   "outputs": [
    {
     "data": {
      "image/png": "[encoded data removed]",
      "text/plain": [
       "<Figure size 720x576 with 1 Axes>"
      ]
     },
     "metadata": {
      "needs_background": "light"
     },
     "output_type": "display_data"
    }
   ],
   "source": [
    "# Plot 'delta_n = k * delta_p' and fit for k (linear)\n",
    "\n",
    "# Make ax and fig\n",
    "fig, ax = make_ax(df, x = 'pressure', y = 'delta_n', xlabel = r'$\\Delta p$', ylabel = r'$\\Delta n$', \n",
    "                  title = 'Fit for linear constant \"k\"', figsize = (10, 8), label = 'Data')\n",
    "\n",
    "# Make curvefit for k\n",
    "popt, pcov = calculate_fit_for_k(df)\n",
    "\n",
    "# Error on k\n",
    "k_error = np.sqrt(np.diag(pcov))[0]\n",
    "\n",
    "# Plot fit\n",
    "ax = plot_fit_for_k(df, popt[0], ax)\n",
    "\n",
    "# Plot ax\n",
    "plot_ax(ax, grid = True, legend = True, save = True, filename = 'fit_for_linear_constant_k.pdf')"
   ]
  },
  {
   "cell_type": "code",
   "execution_count": 9,
   "metadata": {},
   "outputs": [
    {
     "data": {
      "text/latex": [
       "Refrative index of air equals: 1.0001469920626358 $\\pm$ 4.480335613229233e-06"
      ],
      "text/plain": [
       "<IPython.core.display.Latex object>"
      ]
     },
     "metadata": {},
     "output_type": "display_data"
    }
   ],
   "source": [
    "# Calculate refrative index of air\n",
    "n_luft_value = n_luft(popt[0])\n",
    "n_luft_error = k_error # Using errorpropagation for a multivariable function, it can be shown that 'n_luft_error = k_error'\n",
    "\n",
    "# Print result\n",
    "display(Latex(f'Refrative index of air equals: {n_luft_value} $\\pm$ {n_luft_error}'))"
   ]
  },
  {
   "cell_type": "markdown",
   "metadata": {},
   "source": [
    "Possible reasons why value is not '1.00025':\n",
    "  -  Number of maximums and minimums is counted wrongly\n",
    "  -  Some of the math might be off\n",
    "  -  Systematic errors in experiment\n",
    "  \n",
    "What needs to be done:\n",
    "  -  Calculate uncertainty in refrative index of air (Done)\n",
    "  -  Possibly resolve some of the points above"
   ]
  }
 ],
 "metadata": {
  "kernelspec": {
   "display_name": "Python 3",
   "language": "python",
   "name": "python3"
  },
  "language_info": {
   "codemirror_mode": {
    "name": "ipython",
    "version": 3
   },
   "file_extension": ".py",
   "mimetype": "text/x-python",
   "name": "python",
   "nbconvert_exporter": "python",
   "pygments_lexer": "ipython3",
   "version": "3.8.3"
  }
 },
 "nbformat": 4,
 "nbformat_minor": 4
}
